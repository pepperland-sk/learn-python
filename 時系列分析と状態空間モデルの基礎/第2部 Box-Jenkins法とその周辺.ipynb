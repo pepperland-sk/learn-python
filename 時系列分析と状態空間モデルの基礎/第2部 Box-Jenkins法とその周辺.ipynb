{
 "cells": [
  {
   "cell_type": "markdown",
   "metadata": {},
   "source": [
    "# 第2部 Box-Jenkins法とその周辺"
   ]
  },
  {
   "cell_type": "markdown",
   "metadata": {},
   "source": [
    "## パッケージインポート"
   ]
  },
  {
   "cell_type": "code",
   "execution_count": 1,
   "metadata": {},
   "outputs": [
    {
     "name": "stdout",
     "output_type": "stream",
     "text": [
      "Requirement already satisfied: statsmodels in c:\\users\\sk0ea\\appdata\\local\\programs\\python\\python37\\lib\\site-packages (0.12.2)\n",
      "Requirement already satisfied: scipy>=1.1 in c:\\users\\sk0ea\\appdata\\local\\programs\\python\\python37\\lib\\site-packages (from statsmodels) (1.5.4)\n",
      "Requirement already satisfied: numpy>=1.15 in c:\\users\\sk0ea\\appdata\\local\\programs\\python\\python37\\lib\\site-packages (from statsmodels) (1.19.2)\n",
      "Requirement already satisfied: pandas>=0.21 in c:\\users\\sk0ea\\appdata\\local\\programs\\python\\python37\\lib\\site-packages (from statsmodels) (1.1.3)\n",
      "Requirement already satisfied: patsy>=0.5 in c:\\users\\sk0ea\\appdata\\local\\programs\\python\\python37\\lib\\site-packages (from statsmodels) (0.5.1)\n",
      "Requirement already satisfied: python-dateutil>=2.7.3 in c:\\users\\sk0ea\\appdata\\local\\programs\\python\\python37\\lib\\site-packages (from pandas>=0.21->statsmodels) (2.8.1)\n",
      "Requirement already satisfied: pytz>=2017.2 in c:\\users\\sk0ea\\appdata\\local\\programs\\python\\python37\\lib\\site-packages (from pandas>=0.21->statsmodels) (2020.1)\n",
      "Requirement already satisfied: six in c:\\users\\sk0ea\\appdata\\local\\programs\\python\\python37\\lib\\site-packages (from patsy>=0.5->statsmodels) (1.15.0)\n",
      "Requirement already satisfied: pmdarima in c:\\users\\sk0ea\\appdata\\local\\programs\\python\\python37\\lib\\site-packages (1.8.2)\n",
      "Requirement already satisfied: setuptools!=50.0.0,>=38.6.0 in c:\\users\\sk0ea\\appdata\\local\\programs\\python\\python37\\lib\\site-packages (from pmdarima) (40.8.0)\n",
      "Requirement already satisfied: numpy~=1.19.0 in c:\\users\\sk0ea\\appdata\\local\\programs\\python\\python37\\lib\\site-packages (from pmdarima) (1.19.2)\n",
      "Requirement already satisfied: pandas>=0.19 in c:\\users\\sk0ea\\appdata\\local\\programs\\python\\python37\\lib\\site-packages (from pmdarima) (1.1.3)\n",
      "Requirement already satisfied: Cython!=0.29.18,>=0.29 in c:\\users\\sk0ea\\appdata\\local\\programs\\python\\python37\\lib\\site-packages (from pmdarima) (0.29.24)\n",
      "Requirement already satisfied: urllib3 in c:\\users\\sk0ea\\appdata\\local\\programs\\python\\python37\\lib\\site-packages (from pmdarima) (1.26.6)\n",
      "Requirement already satisfied: statsmodels!=0.12.0,>=0.11 in c:\\users\\sk0ea\\appdata\\local\\programs\\python\\python37\\lib\\site-packages (from pmdarima) (0.12.2)\n",
      "Requirement already satisfied: scikit-learn>=0.22 in c:\\users\\sk0ea\\appdata\\local\\programs\\python\\python37\\lib\\site-packages (from pmdarima) (0.24.2)\n",
      "Requirement already satisfied: joblib>=0.11 in c:\\users\\sk0ea\\appdata\\local\\programs\\python\\python37\\lib\\site-packages (from pmdarima) (1.0.1)\n",
      "Requirement already satisfied: scipy>=1.3.2 in c:\\users\\sk0ea\\appdata\\local\\programs\\python\\python37\\lib\\site-packages (from pmdarima) (1.5.4)\n",
      "Requirement already satisfied: python-dateutil>=2.7.3 in c:\\users\\sk0ea\\appdata\\local\\programs\\python\\python37\\lib\\site-packages (from pandas>=0.19->pmdarima) (2.8.1)\n",
      "Requirement already satisfied: pytz>=2017.2 in c:\\users\\sk0ea\\appdata\\local\\programs\\python\\python37\\lib\\site-packages (from pandas>=0.19->pmdarima) (2020.1)\n",
      "Requirement already satisfied: six>=1.5 in c:\\users\\sk0ea\\appdata\\local\\programs\\python\\python37\\lib\\site-packages (from python-dateutil>=2.7.3->pandas>=0.19->pmdarima) (1.15.0)\n",
      "Requirement already satisfied: threadpoolctl>=2.0.0 in c:\\users\\sk0ea\\appdata\\local\\programs\\python\\python37\\lib\\site-packages (from scikit-learn>=0.22->pmdarima) (2.2.0)\n",
      "Requirement already satisfied: patsy>=0.5 in c:\\users\\sk0ea\\appdata\\local\\programs\\python\\python37\\lib\\site-packages (from statsmodels!=0.12.0,>=0.11->pmdarima) (0.5.1)\n"
     ]
    }
   ],
   "source": [
    "# !pip install statsmodels\n",
    "# # !pip install rdatasets\n",
    "# !pip install pmdarima"
   ]
  },
  {
   "cell_type": "code",
   "execution_count": 2,
   "metadata": {},
   "outputs": [],
   "source": [
    "import datetime\n",
    "import numpy as np\n",
    "import pandas as pd\n",
    "import pmdarima as pm\n",
    "import seaborn as sns\n",
    "import matplotlib.pyplot as plt\n",
    "import itertools\n",
    "import statsmodels.graphics.api as smg\n",
    "import statsmodels.tsa.api as tsa\n",
    "import statsmodels.api as sm\n",
    "from statsmodels.graphics.tsaplots import plot_acf\n",
    "\n",
    "# from pydataset import data\n",
    "from rdatasets import data\n",
    "\n",
    "%matplotlib inline\n",
    "# sns.set(font=\"DejaVu Sans\") #seabornを日本語対応"
   ]
  },
  {
   "cell_type": "code",
   "execution_count": 3,
   "metadata": {},
   "outputs": [
    {
     "data": {
      "text/plain": [
       "(192, 8)"
      ]
     },
     "execution_count": 3,
     "metadata": {},
     "output_type": "execute_result"
    }
   ],
   "source": [
    "df = data(\"Seatbelts\")\n",
    "df.shape"
   ]
  },
  {
   "cell_type": "markdown",
   "metadata": {},
   "source": [
    "## 第2部-7章 RによるARIMAモデル"
   ]
  },
  {
   "cell_type": "markdown",
   "metadata": {},
   "source": [
    "### データ準備"
   ]
  },
  {
   "cell_type": "code",
   "execution_count": 4,
   "metadata": {},
   "outputs": [],
   "source": [
    "df = data(\"Seatbelts\")\n",
    "\n",
    "year = [[i]*12 for i in range(1969, 1985)]\n",
    "year = list(itertools.chain.from_iterable(year))\n",
    "\n",
    "month = [list(range(1,13)) for i in range(1969, 1985)]\n",
    "month = list(itertools.chain.from_iterable(month))\n",
    "\n",
    "df['year'] = year\n",
    "df['month'] = month\n",
    "\n",
    "yyyymm = [str(i)+'-'+str(j) for i,j in zip(df['year'], df['month'])]\n",
    "df['date'] = pd.to_datetime(yyyymm)\n",
    "df.set_index('date', inplace=True)"
   ]
  },
  {
   "cell_type": "code",
   "execution_count": 5,
   "metadata": {},
   "outputs": [],
   "source": [
    "df_front = df['front']"
   ]
  },
  {
   "cell_type": "markdown",
   "metadata": {},
   "source": [
    "### 対数差分系列"
   ]
  },
  {
   "cell_type": "code",
   "execution_count": 6,
   "metadata": {},
   "outputs": [
    {
     "data": {
      "text/plain": [
       "date\n",
       "1969-01-01    867\n",
       "1969-02-01    825\n",
       "1969-03-01    806\n",
       "1969-04-01    814\n",
       "1969-05-01    991\n",
       "             ... \n",
       "1984-08-01    644\n",
       "1984-09-01    643\n",
       "1984-10-01    641\n",
       "1984-11-01    711\n",
       "1984-12-01    721\n",
       "Name: front, Length: 192, dtype: int64"
      ]
     },
     "execution_count": 6,
     "metadata": {},
     "output_type": "execute_result"
    }
   ],
   "source": [
    "df_front"
   ]
  },
  {
   "cell_type": "code",
   "execution_count": 7,
   "metadata": {},
   "outputs": [
    {
     "data": {
      "image/png": "[encoded data removed]",
      "text/plain": [
       "<Figure size 432x288 with 1 Axes>"
      ]
     },
     "metadata": {
      "needs_background": "light"
     },
     "output_type": "display_data"
    },
    {
     "data": {
      "image/png": "[encoded data removed]",
      "text/plain": [
       "<Figure size 432x288 with 1 Axes>"
      ]
     },
     "metadata": {
      "needs_background": "light"
     },
     "output_type": "display_data"
    }
   ],
   "source": [
    "# 対数差分系列の可視化\n",
    "\n",
    "# 時系列描画\n",
    "plt.plot(np.log(df_front));\n",
    "\n",
    "# コレログラム（自己相関）描画\n",
    "plot_acf(df_front, lags=36);"
   ]
  },
  {
   "cell_type": "markdown",
   "metadata": {},
   "source": [
    "### 季節差分系列"
   ]
  },
  {
   "cell_type": "code",
   "execution_count": 8,
   "metadata": {},
   "outputs": [
    {
     "data": {
      "image/png": "[encoded data removed]",
      "text/plain": [
       "<Figure size 432x288 with 1 Axes>"
      ]
     },
     "metadata": {
      "needs_background": "light"
     },
     "output_type": "display_data"
    },
    {
     "data": {
      "image/png": "[encoded data removed]",
      "text/plain": [
       "<Figure size 432x288 with 1 Axes>"
      ]
     },
     "metadata": {
      "needs_background": "light"
     },
     "output_type": "display_data"
    }
   ],
   "source": [
    "df_front_log_diff = np.log(df_front).diff(12)\n",
    "\n",
    "# 時系列描画\n",
    "plt.plot(df_front_log_diff);\n",
    "\n",
    "# コレログラム（自己相関）描画\n",
    "plot_acf(df_front_log_diff.dropna(), lags=36);"
   ]
  },
  {
   "cell_type": "code",
   "execution_count": 9,
   "metadata": {},
   "outputs": [
    {
     "name": "stderr",
     "output_type": "stream",
     "text": [
      "c:\\users\\sk0ea\\appdata\\local\\programs\\python\\python37\\lib\\site-packages\\statsmodels\\tsa\\stattools.py:662: FutureWarning: The default number of lags is changing from 40 tomin(int(10 * np.log10(nobs)), nobs - 1) after 0.12is released. Set the number of lags to an integer to  silence this warning.\n",
      "  FutureWarning,\n",
      "c:\\users\\sk0ea\\appdata\\local\\programs\\python\\python37\\lib\\site-packages\\statsmodels\\tsa\\stattools.py:671: FutureWarning: fft=True will become the default after the release of the 0.12 release of statsmodels. To suppress this warning, explicitly set fft=False.\n",
      "  FutureWarning,\n"
     ]
    },
    {
     "data": {
      "text/plain": [
       "array([1.        , 0.76171011, 0.62785233, 0.55075853, 0.50248192,\n",
       "       0.45287947, 0.36787167, 0.40072598, 0.42693172, 0.45562834,\n",
       "       0.48720213, 0.57950984, 0.69242629, 0.54439641, 0.42138786,\n",
       "       0.35009229, 0.30263493, 0.26046324, 0.17580323, 0.2007498 ,\n",
       "       0.20780282, 0.21989189, 0.26320471, 0.35531106, 0.43095806,\n",
       "       0.31779323, 0.23179849, 0.17100168, 0.15004702, 0.11014894,\n",
       "       0.04052578, 0.09824221, 0.10168315, 0.1184929 , 0.16687116,\n",
       "       0.23757421, 0.31549385, 0.21371976, 0.09361652, 0.05669948,\n",
       "       0.03525713])"
      ]
     },
     "execution_count": 9,
     "metadata": {},
     "output_type": "execute_result"
    }
   ],
   "source": [
    "#自己相関系列の値\n",
    "tsa.stattools.acf(df_front, nlags=None)"
   ]
  },
  {
   "cell_type": "markdown",
   "metadata": {},
   "source": [
    "### 訓練データ・テストデータの分割"
   ]
  },
  {
   "cell_type": "code",
   "execution_count": 10,
   "metadata": {},
   "outputs": [
    {
     "name": "stderr",
     "output_type": "stream",
     "text": [
      "c:\\users\\sk0ea\\appdata\\local\\programs\\python\\python37\\lib\\site-packages\\pandas\\core\\indexing.py:1745: SettingWithCopyWarning: \n",
      "A value is trying to be set on a copy of a slice from a DataFrame.\n",
      "Try using .loc[row_indexer,col_indexer] = value instead\n",
      "\n",
      "See the caveats in the documentation: https://pandas.pydata.org/pandas-docs/stable/user_guide/indexing.html#returning-a-view-versus-a-copy\n",
      "  isetter(ilocs[0], value)\n"
     ]
    }
   ],
   "source": [
    "seatbelts_log = df[['front', 'PetrolPrice', 'law']]\n",
    "seatbelts_log.loc[:, 'front'] = np.log(seatbelts_log['front'])\n",
    "seatbelts_log.loc[:, 'PetrolPrice'] = np.log(seatbelts_log['PetrolPrice'])\n",
    "\n"
   ]
  },
  {
   "cell_type": "code",
   "execution_count": 11,
   "metadata": {},
   "outputs": [
    {
     "data": {
      "text/html": [
       "<div>\n",
       "<style scoped>\n",
       "    .dataframe tbody tr th:only-of-type {\n",
       "        vertical-align: middle;\n",
       "    }\n",
       "\n",
       "    .dataframe tbody tr th {\n",
       "        vertical-align: top;\n",
       "    }\n",
       "\n",
       "    .dataframe thead th {\n",
       "        text-align: right;\n",
       "    }\n",
       "</style>\n",
       "<table border=\"1\" class=\"dataframe\">\n",
       "  <thead>\n",
       "    <tr style=\"text-align: right;\">\n",
       "      <th></th>\n",
       "      <th>PetrolPrice</th>\n",
       "      <th>law</th>\n",
       "    </tr>\n",
       "    <tr>\n",
       "      <th>date</th>\n",
       "      <th></th>\n",
       "      <th></th>\n",
       "    </tr>\n",
       "  </thead>\n",
       "  <tbody>\n",
       "    <tr>\n",
       "      <th>1969-01-01</th>\n",
       "      <td>-2.27330</td>\n",
       "      <td>0</td>\n",
       "    </tr>\n",
       "    <tr>\n",
       "      <th>1969-02-01</th>\n",
       "      <td>-2.27923</td>\n",
       "      <td>0</td>\n",
       "    </tr>\n",
       "    <tr>\n",
       "      <th>1969-03-01</th>\n",
       "      <td>-2.28217</td>\n",
       "      <td>0</td>\n",
       "    </tr>\n",
       "    <tr>\n",
       "      <th>1969-04-01</th>\n",
       "      <td>-2.29389</td>\n",
       "      <td>0</td>\n",
       "    </tr>\n",
       "    <tr>\n",
       "      <th>1969-05-01</th>\n",
       "      <td>-2.29244</td>\n",
       "      <td>0</td>\n",
       "    </tr>\n",
       "    <tr>\n",
       "      <th>...</th>\n",
       "      <td>...</td>\n",
       "      <td>...</td>\n",
       "    </tr>\n",
       "    <tr>\n",
       "      <th>1983-08-01</th>\n",
       "      <td>-2.12496</td>\n",
       "      <td>1</td>\n",
       "    </tr>\n",
       "    <tr>\n",
       "      <th>1983-09-01</th>\n",
       "      <td>-2.12963</td>\n",
       "      <td>1</td>\n",
       "    </tr>\n",
       "    <tr>\n",
       "      <th>1983-10-01</th>\n",
       "      <td>-2.13316</td>\n",
       "      <td>1</td>\n",
       "    </tr>\n",
       "    <tr>\n",
       "      <th>1983-11-01</th>\n",
       "      <td>-2.13693</td>\n",
       "      <td>1</td>\n",
       "    </tr>\n",
       "    <tr>\n",
       "      <th>1983-12-01</th>\n",
       "      <td>-2.13956</td>\n",
       "      <td>1</td>\n",
       "    </tr>\n",
       "  </tbody>\n",
       "</table>\n",
       "<p>180 rows × 2 columns</p>\n",
       "</div>"
      ],
      "text/plain": [
       "            PetrolPrice  law\n",
       "date                        \n",
       "1969-01-01     -2.27330    0\n",
       "1969-02-01     -2.27923    0\n",
       "1969-03-01     -2.28217    0\n",
       "1969-04-01     -2.29389    0\n",
       "1969-05-01     -2.29244    0\n",
       "...                 ...  ...\n",
       "1983-08-01     -2.12496    1\n",
       "1983-09-01     -2.12963    1\n",
       "1983-10-01     -2.13316    1\n",
       "1983-11-01     -2.13693    1\n",
       "1983-12-01     -2.13956    1\n",
       "\n",
       "[180 rows x 2 columns]"
      ]
     },
     "execution_count": 11,
     "metadata": {},
     "output_type": "execute_result"
    }
   ],
   "source": [
    "train = seatbelts_log.loc[:'1983-12']\n",
    "test = seatbelts_log.loc['1984-1':]\n",
    "petro_law = train.iloc[:, 1:]\n",
    "petro_law"
   ]
  },
  {
   "cell_type": "markdown",
   "metadata": {},
   "source": [
    "### ARIMAモデルの推定"
   ]
  },
  {
   "cell_type": "code",
   "execution_count": 12,
   "metadata": {},
   "outputs": [
    {
     "name": "stderr",
     "output_type": "stream",
     "text": [
      "c:\\users\\sk0ea\\appdata\\local\\programs\\python\\python37\\lib\\site-packages\\statsmodels\\tsa\\base\\tsa_model.py:527: ValueWarning: No frequency information was provided, so inferred frequency MS will be used.\n",
      "  % freq, ValueWarning)\n",
      "c:\\users\\sk0ea\\appdata\\local\\programs\\python\\python37\\lib\\site-packages\\statsmodels\\tsa\\base\\tsa_model.py:527: ValueWarning: No frequency information was provided, so inferred frequency MS will be used.\n",
      "  % freq, ValueWarning)\n"
     ]
    },
    {
     "data": {
      "text/html": [
       "<table class=\"simpletable\">\n",
       "<caption>SARIMAX Results</caption>\n",
       "<tr>\n",
       "  <th>Dep. Variable:</th>                <td>front</td>              <th>  No. Observations:  </th>    <td>180</td>  \n",
       "</tr>\n",
       "<tr>\n",
       "  <th>Model:</th>           <td>SARIMAX(1, 1, 1)x(1, 0, [], 12)</td> <th>  Log Likelihood     </th>  <td>165.332</td>\n",
       "</tr>\n",
       "<tr>\n",
       "  <th>Date:</th>                   <td>Wed, 08 Sep 2021</td>         <th>  AIC                </th> <td>-318.664</td>\n",
       "</tr>\n",
       "<tr>\n",
       "  <th>Time:</th>                       <td>21:48:12</td>             <th>  BIC                </th> <td>-299.539</td>\n",
       "</tr>\n",
       "<tr>\n",
       "  <th>Sample:</th>                    <td>01-01-1969</td>            <th>  HQIC               </th> <td>-310.909</td>\n",
       "</tr>\n",
       "<tr>\n",
       "  <th></th>                          <td>- 12-01-1983</td>           <th>                     </th>     <td> </td>   \n",
       "</tr>\n",
       "<tr>\n",
       "  <th>Covariance Type:</th>               <td>opg</td>               <th>                     </th>     <td> </td>   \n",
       "</tr>\n",
       "</table>\n",
       "<table class=\"simpletable\">\n",
       "<tr>\n",
       "       <td></td>          <th>coef</th>     <th>std err</th>      <th>z</th>      <th>P>|z|</th>  <th>[0.025</th>    <th>0.975]</th>  \n",
       "</tr>\n",
       "<tr>\n",
       "  <th>PetrolPrice</th> <td>   -0.3463</td> <td>    0.088</td> <td>   -3.928</td> <td> 0.000</td> <td>   -0.519</td> <td>   -0.174</td>\n",
       "</tr>\n",
       "<tr>\n",
       "  <th>law</th>         <td>   -0.3719</td> <td>    0.045</td> <td>   -8.325</td> <td> 0.000</td> <td>   -0.459</td> <td>   -0.284</td>\n",
       "</tr>\n",
       "<tr>\n",
       "  <th>ar.L1</th>       <td>    0.2590</td> <td>    0.090</td> <td>    2.872</td> <td> 0.004</td> <td>    0.082</td> <td>    0.436</td>\n",
       "</tr>\n",
       "<tr>\n",
       "  <th>ma.L1</th>       <td>   -0.9503</td> <td>    0.024</td> <td>  -40.181</td> <td> 0.000</td> <td>   -0.997</td> <td>   -0.904</td>\n",
       "</tr>\n",
       "<tr>\n",
       "  <th>ar.S.L12</th>    <td>    0.6877</td> <td>    0.059</td> <td>   11.666</td> <td> 0.000</td> <td>    0.572</td> <td>    0.803</td>\n",
       "</tr>\n",
       "<tr>\n",
       "  <th>sigma2</th>      <td>    0.0088</td> <td>    0.001</td> <td>    8.423</td> <td> 0.000</td> <td>    0.007</td> <td>    0.011</td>\n",
       "</tr>\n",
       "</table>\n",
       "<table class=\"simpletable\">\n",
       "<tr>\n",
       "  <th>Ljung-Box (L1) (Q):</th>     <td>0.07</td> <th>  Jarque-Bera (JB):  </th> <td>0.96</td> \n",
       "</tr>\n",
       "<tr>\n",
       "  <th>Prob(Q):</th>                <td>0.80</td> <th>  Prob(JB):          </th> <td>0.62</td> \n",
       "</tr>\n",
       "<tr>\n",
       "  <th>Heteroskedasticity (H):</th> <td>0.81</td> <th>  Skew:              </th> <td>-0.08</td>\n",
       "</tr>\n",
       "<tr>\n",
       "  <th>Prob(H) (two-sided):</th>    <td>0.41</td> <th>  Kurtosis:          </th> <td>2.68</td> \n",
       "</tr>\n",
       "</table><br/><br/>Warnings:<br/>[1] Covariance matrix calculated using the outer product of gradients (complex-step)."
      ],
      "text/plain": [
       "<class 'statsmodels.iolib.summary.Summary'>\n",
       "\"\"\"\n",
       "                                      SARIMAX Results                                      \n",
       "===========================================================================================\n",
       "Dep. Variable:                               front   No. Observations:                  180\n",
       "Model:             SARIMAX(1, 1, 1)x(1, 0, [], 12)   Log Likelihood                 165.332\n",
       "Date:                             Wed, 08 Sep 2021   AIC                           -318.664\n",
       "Time:                                     21:48:12   BIC                           -299.539\n",
       "Sample:                                 01-01-1969   HQIC                          -310.909\n",
       "                                      - 12-01-1983                                         \n",
       "Covariance Type:                               opg                                         \n",
       "===============================================================================\n",
       "                  coef    std err          z      P>|z|      [0.025      0.975]\n",
       "-------------------------------------------------------------------------------\n",
       "PetrolPrice    -0.3463      0.088     -3.928      0.000      -0.519      -0.174\n",
       "law            -0.3719      0.045     -8.325      0.000      -0.459      -0.284\n",
       "ar.L1           0.2590      0.090      2.872      0.004       0.082       0.436\n",
       "ma.L1          -0.9503      0.024    -40.181      0.000      -0.997      -0.904\n",
       "ar.S.L12        0.6877      0.059     11.666      0.000       0.572       0.803\n",
       "sigma2          0.0088      0.001      8.423      0.000       0.007       0.011\n",
       "===================================================================================\n",
       "Ljung-Box (L1) (Q):                   0.07   Jarque-Bera (JB):                 0.96\n",
       "Prob(Q):                              0.80   Prob(JB):                         0.62\n",
       "Heteroskedasticity (H):               0.81   Skew:                            -0.08\n",
       "Prob(H) (two-sided):                  0.41   Kurtosis:                         2.68\n",
       "===================================================================================\n",
       "\n",
       "Warnings:\n",
       "[1] Covariance matrix calculated using the outer product of gradients (complex-step).\n",
       "\"\"\""
      ]
     },
     "execution_count": 12,
     "metadata": {},
     "output_type": "execute_result"
    }
   ],
   "source": [
    "arima = tsa.SARIMAX(train['front'], \n",
    "                    train[['PetrolPrice', 'law']], \n",
    "                    order=[1, 1, 1], \n",
    "                    seasonal_order=(1, 0, 0, 12)).fit()\n",
    "\n",
    "arima.summary()\n",
    "\n",
    "# arima = pm.ARIMA(order=(1, 1, 1), seasonal_order=(1, 0, 0, 12))\n",
    "# arima.fit(train['front'], train[['PetrolPrice', 'law']])\n",
    "# arima.summary()"
   ]
  },
  {
   "cell_type": "code",
   "execution_count": 13,
   "metadata": {},
   "outputs": [
    {
     "data": {
      "text/html": [
       "<div>\n",
       "<style scoped>\n",
       "    .dataframe tbody tr th:only-of-type {\n",
       "        vertical-align: middle;\n",
       "    }\n",
       "\n",
       "    .dataframe tbody tr th {\n",
       "        vertical-align: top;\n",
       "    }\n",
       "\n",
       "    .dataframe thead th {\n",
       "        text-align: right;\n",
       "    }\n",
       "</style>\n",
       "<table border=\"1\" class=\"dataframe\">\n",
       "  <thead>\n",
       "    <tr style=\"text-align: right;\">\n",
       "      <th></th>\n",
       "      <th>front</th>\n",
       "      <th>PetrolPrice</th>\n",
       "      <th>law</th>\n",
       "    </tr>\n",
       "    <tr>\n",
       "      <th>date</th>\n",
       "      <th></th>\n",
       "      <th></th>\n",
       "      <th></th>\n",
       "    </tr>\n",
       "  </thead>\n",
       "  <tbody>\n",
       "    <tr>\n",
       "      <th>1969-01-01</th>\n",
       "      <td>6.765039</td>\n",
       "      <td>-2.27330</td>\n",
       "      <td>0</td>\n",
       "    </tr>\n",
       "    <tr>\n",
       "      <th>1969-02-01</th>\n",
       "      <td>6.715383</td>\n",
       "      <td>-2.27923</td>\n",
       "      <td>0</td>\n",
       "    </tr>\n",
       "    <tr>\n",
       "      <th>1969-03-01</th>\n",
       "      <td>6.692084</td>\n",
       "      <td>-2.28217</td>\n",
       "      <td>0</td>\n",
       "    </tr>\n",
       "    <tr>\n",
       "      <th>1969-04-01</th>\n",
       "      <td>6.701960</td>\n",
       "      <td>-2.29389</td>\n",
       "      <td>0</td>\n",
       "    </tr>\n",
       "    <tr>\n",
       "      <th>1969-05-01</th>\n",
       "      <td>6.898715</td>\n",
       "      <td>-2.29244</td>\n",
       "      <td>0</td>\n",
       "    </tr>\n",
       "    <tr>\n",
       "      <th>...</th>\n",
       "      <td>...</td>\n",
       "      <td>...</td>\n",
       "      <td>...</td>\n",
       "    </tr>\n",
       "    <tr>\n",
       "      <th>1983-08-01</th>\n",
       "      <td>6.421622</td>\n",
       "      <td>-2.12496</td>\n",
       "      <td>1</td>\n",
       "    </tr>\n",
       "    <tr>\n",
       "      <th>1983-09-01</th>\n",
       "      <td>6.426488</td>\n",
       "      <td>-2.12963</td>\n",
       "      <td>1</td>\n",
       "    </tr>\n",
       "    <tr>\n",
       "      <th>1983-10-01</th>\n",
       "      <td>6.495266</td>\n",
       "      <td>-2.13316</td>\n",
       "      <td>1</td>\n",
       "    </tr>\n",
       "    <tr>\n",
       "      <th>1983-11-01</th>\n",
       "      <td>6.251904</td>\n",
       "      <td>-2.13693</td>\n",
       "      <td>1</td>\n",
       "    </tr>\n",
       "    <tr>\n",
       "      <th>1983-12-01</th>\n",
       "      <td>6.371612</td>\n",
       "      <td>-2.13956</td>\n",
       "      <td>1</td>\n",
       "    </tr>\n",
       "  </tbody>\n",
       "</table>\n",
       "<p>180 rows × 3 columns</p>\n",
       "</div>"
      ],
      "text/plain": [
       "               front  PetrolPrice  law\n",
       "date                                  \n",
       "1969-01-01  6.765039     -2.27330    0\n",
       "1969-02-01  6.715383     -2.27923    0\n",
       "1969-03-01  6.692084     -2.28217    0\n",
       "1969-04-01  6.701960     -2.29389    0\n",
       "1969-05-01  6.898715     -2.29244    0\n",
       "...              ...          ...  ...\n",
       "1983-08-01  6.421622     -2.12496    1\n",
       "1983-09-01  6.426488     -2.12963    1\n",
       "1983-10-01  6.495266     -2.13316    1\n",
       "1983-11-01  6.251904     -2.13693    1\n",
       "1983-12-01  6.371612     -2.13956    1\n",
       "\n",
       "[180 rows x 3 columns]"
      ]
     },
     "execution_count": 13,
     "metadata": {},
     "output_type": "execute_result"
    }
   ],
   "source": [
    "train"
   ]
  },
  {
   "cell_type": "code",
   "execution_count": 14,
   "metadata": {},
   "outputs": [
    {
     "data": {
      "text/plain": [
       "ARIMA(order=(0, 1, 2), scoring_args={}, seasonal_order=(2, 0, 1, 12),\n",
       "      suppress_warnings=True, with_intercept=False)"
      ]
     },
     "execution_count": 14,
     "metadata": {},
     "output_type": "execute_result"
    }
   ],
   "source": [
    "auto_arima = pm.auto_arima(\n",
    "                    y=train['front'], \n",
    "                    X=train[['PetrolPrice', 'law']], \n",
    "#                   stepwise=False, \n",
    "                    seasonal=True,\n",
    "                    max_order = 5,\n",
    "                    m = 12,\n",
    "                    approximation = False,\n",
    "                    information_criterion='aic')\n",
    "auto_arima"
   ]
  },
  {
   "cell_type": "code",
   "execution_count": 15,
   "metadata": {},
   "outputs": [
    {
     "data": {
      "text/html": [
       "<table class=\"simpletable\">\n",
       "<caption>SARIMAX Results</caption>\n",
       "<tr>\n",
       "  <th>Dep. Variable:</th>                   <td>y</td>                <th>  No. Observations:  </th>    <td>180</td>  \n",
       "</tr>\n",
       "<tr>\n",
       "  <th>Model:</th>           <td>SARIMAX(0, 1, 2)x(2, 0, [1], 12)</td> <th>  Log Likelihood     </th>  <td>177.349</td>\n",
       "</tr>\n",
       "<tr>\n",
       "  <th>Date:</th>                    <td>Wed, 08 Sep 2021</td>         <th>  AIC                </th> <td>-338.699</td>\n",
       "</tr>\n",
       "<tr>\n",
       "  <th>Time:</th>                        <td>21:49:43</td>             <th>  BIC                </th> <td>-313.200</td>\n",
       "</tr>\n",
       "<tr>\n",
       "  <th>Sample:</th>                     <td>01-01-1969</td>            <th>  HQIC               </th> <td>-328.359</td>\n",
       "</tr>\n",
       "<tr>\n",
       "  <th></th>                           <td>- 12-01-1983</td>           <th>                     </th>     <td> </td>   \n",
       "</tr>\n",
       "<tr>\n",
       "  <th>Covariance Type:</th>                <td>opg</td>               <th>                     </th>     <td> </td>   \n",
       "</tr>\n",
       "</table>\n",
       "<table class=\"simpletable\">\n",
       "<tr>\n",
       "       <td></td>          <th>coef</th>     <th>std err</th>      <th>z</th>      <th>P>|z|</th>  <th>[0.025</th>    <th>0.975]</th>  \n",
       "</tr>\n",
       "<tr>\n",
       "  <th>PetrolPrice</th> <td>   -0.3568</td> <td>    0.100</td> <td>   -3.575</td> <td> 0.000</td> <td>   -0.552</td> <td>   -0.161</td>\n",
       "</tr>\n",
       "<tr>\n",
       "  <th>law</th>         <td>   -0.3457</td> <td>    0.050</td> <td>   -6.919</td> <td> 0.000</td> <td>   -0.444</td> <td>   -0.248</td>\n",
       "</tr>\n",
       "<tr>\n",
       "  <th>ma.L1</th>       <td>   -0.7132</td> <td>    0.077</td> <td>   -9.296</td> <td> 0.000</td> <td>   -0.864</td> <td>   -0.563</td>\n",
       "</tr>\n",
       "<tr>\n",
       "  <th>ma.L2</th>       <td>   -0.1519</td> <td>    0.072</td> <td>   -2.104</td> <td> 0.035</td> <td>   -0.293</td> <td>   -0.010</td>\n",
       "</tr>\n",
       "<tr>\n",
       "  <th>ar.S.L12</th>    <td>    1.1658</td> <td>    0.142</td> <td>    8.236</td> <td> 0.000</td> <td>    0.888</td> <td>    1.443</td>\n",
       "</tr>\n",
       "<tr>\n",
       "  <th>ar.S.L24</th>    <td>   -0.1752</td> <td>    0.125</td> <td>   -1.397</td> <td> 0.162</td> <td>   -0.421</td> <td>    0.071</td>\n",
       "</tr>\n",
       "<tr>\n",
       "  <th>ma.S.L12</th>    <td>   -0.8638</td> <td>    0.172</td> <td>   -5.026</td> <td> 0.000</td> <td>   -1.201</td> <td>   -0.527</td>\n",
       "</tr>\n",
       "<tr>\n",
       "  <th>sigma2</th>      <td>    0.0073</td> <td>    0.001</td> <td>    7.359</td> <td> 0.000</td> <td>    0.005</td> <td>    0.009</td>\n",
       "</tr>\n",
       "</table>\n",
       "<table class=\"simpletable\">\n",
       "<tr>\n",
       "  <th>Ljung-Box (L1) (Q):</th>     <td>0.00</td> <th>  Jarque-Bera (JB):  </th> <td>1.14</td>\n",
       "</tr>\n",
       "<tr>\n",
       "  <th>Prob(Q):</th>                <td>0.97</td> <th>  Prob(JB):          </th> <td>0.57</td>\n",
       "</tr>\n",
       "<tr>\n",
       "  <th>Heteroskedasticity (H):</th> <td>0.80</td> <th>  Skew:              </th> <td>0.03</td>\n",
       "</tr>\n",
       "<tr>\n",
       "  <th>Prob(H) (two-sided):</th>    <td>0.39</td> <th>  Kurtosis:          </th> <td>2.61</td>\n",
       "</tr>\n",
       "</table><br/><br/>Warnings:<br/>[1] Covariance matrix calculated using the outer product of gradients (complex-step)."
      ],
      "text/plain": [
       "<class 'statsmodels.iolib.summary.Summary'>\n",
       "\"\"\"\n",
       "                                      SARIMAX Results                                       \n",
       "============================================================================================\n",
       "Dep. Variable:                                    y   No. Observations:                  180\n",
       "Model:             SARIMAX(0, 1, 2)x(2, 0, [1], 12)   Log Likelihood                 177.349\n",
       "Date:                              Wed, 08 Sep 2021   AIC                           -338.699\n",
       "Time:                                      21:49:43   BIC                           -313.200\n",
       "Sample:                                  01-01-1969   HQIC                          -328.359\n",
       "                                       - 12-01-1983                                         \n",
       "Covariance Type:                                opg                                         \n",
       "===============================================================================\n",
       "                  coef    std err          z      P>|z|      [0.025      0.975]\n",
       "-------------------------------------------------------------------------------\n",
       "PetrolPrice    -0.3568      0.100     -3.575      0.000      -0.552      -0.161\n",
       "law            -0.3457      0.050     -6.919      0.000      -0.444      -0.248\n",
       "ma.L1          -0.7132      0.077     -9.296      0.000      -0.864      -0.563\n",
       "ma.L2          -0.1519      0.072     -2.104      0.035      -0.293      -0.010\n",
       "ar.S.L12        1.1658      0.142      8.236      0.000       0.888       1.443\n",
       "ar.S.L24       -0.1752      0.125     -1.397      0.162      -0.421       0.071\n",
       "ma.S.L12       -0.8638      0.172     -5.026      0.000      -1.201      -0.527\n",
       "sigma2          0.0073      0.001      7.359      0.000       0.005       0.009\n",
       "===================================================================================\n",
       "Ljung-Box (L1) (Q):                   0.00   Jarque-Bera (JB):                 1.14\n",
       "Prob(Q):                              0.97   Prob(JB):                         0.57\n",
       "Heteroskedasticity (H):               0.80   Skew:                             0.03\n",
       "Prob(H) (two-sided):                  0.39   Kurtosis:                         2.61\n",
       "===================================================================================\n",
       "\n",
       "Warnings:\n",
       "[1] Covariance matrix calculated using the outer product of gradients (complex-step).\n",
       "\"\"\""
      ]
     },
     "execution_count": 15,
     "metadata": {},
     "output_type": "execute_result"
    }
   ],
   "source": [
    "auto_arima.summary()"
   ]
  },
  {
   "cell_type": "markdown",
   "metadata": {},
   "source": [
    "### 残差のチェック"
   ]
  },
  {
   "cell_type": "markdown",
   "metadata": {},
   "source": [
    " - https://www.statsmodels.org/stable/generated/statsmodels.stats.diagnostic.acorr_ljungbox.html\n",
    " - https://www.statsmodels.org/stable/generated/statsmodels.stats.stattools.jarque_bera.html"
   ]
  },
  {
   "cell_type": "code",
   "execution_count": 16,
   "metadata": {},
   "outputs": [
    {
     "name": "stdout",
     "output_type": "stream",
     "text": [
      "Ljunng-Box test\n",
      "--------------------\n",
      "     lb_stat  lb_pvalue\n",
      "0   1.368779        NaN\n",
      "1   0.010761   0.917380\n",
      "2   0.014720   0.992667\n",
      "3   0.018305   0.999345\n",
      "4   0.160209   0.996958\n",
      "5   0.176153   0.999349\n",
      "6   0.270617   0.999627\n",
      "7   0.392663   0.999752\n",
      "8   0.393443   0.999947\n",
      "9   0.420462   0.999986\n",
      "10  0.618672   0.999982\n",
      "11  0.724198   0.999990\n",
      "12  0.724779   0.999998\n",
      "13  0.726165   0.999999\n",
      "14  0.822079   1.000000\n",
      "15  0.829328   1.000000\n",
      "16  0.836231   1.000000\n",
      "17  0.914639   1.000000\n",
      "18  0.968505   1.000000\n",
      "19  0.995411   1.000000\n",
      "20  0.995818   1.000000\n",
      "21  1.168819   1.000000\n",
      "22  1.171031   1.000000\n",
      "23  1.299206   1.000000\n",
      "24  1.368779   1.000000\n",
      "\n",
      "Jarque_Bera test\n",
      "--------------------\n",
      "(199430.3001899389, 0.0, 12.51089264621681, 164.1353994402571)\n"
     ]
    }
   ],
   "source": [
    "# 定常性の確認\n",
    "\n",
    "# 反転可能性の確認\n",
    "\n",
    "# 残差の自己相関の検定\n",
    "print(\"Ljunng-Box test\")\n",
    "print(\"-\"*20)\n",
    "ljungbox = sm.stats.acorr_ljungbox(auto_arima.resid(), lags=range(0,25), return_df=True)\n",
    "print(ljungbox)\n",
    "print()\n",
    "# 残差の正規性の検定\n",
    "print(\"Jarque_Bera test\")\n",
    "print(\"-\"*20)\n",
    "ljungbox = sm.stats.jarque_bera(auto_arima.resid())\n",
    "print(ljungbox)"
   ]
  },
  {
   "cell_type": "markdown",
   "metadata": {},
   "source": [
    "### 予測"
   ]
  },
  {
   "cell_type": "code",
   "execution_count": null,
   "metadata": {},
   "outputs": [],
   "source": []
  },
  {
   "cell_type": "code",
   "execution_count": 29,
   "metadata": {},
   "outputs": [
    {
     "name": "stdout",
     "output_type": "stream",
     "text": [
      "train\n",
      "0.45283034647969866\n",
      "test\n",
      "0.10273963288972653\n"
     ]
    }
   ],
   "source": [
    "y_train_pred = auto_arima.predict_in_sample(X=train[['PetrolPrice', 'law']])\n",
    "y_test_pred = auto_arima.predict(len(test), test[['PetrolPrice', 'law']])\n",
    "\n",
    "# testセットのRSME\n",
    "print('train')\n",
    "print(sm.tools.eval_measures.rmse(train['front'], y_train_pred, axis=0))\n",
    "print('test')\n",
    "print(sm.tools.eval_measures.rmse(test['front'], y_test_pred, axis=0))"
   ]
  },
  {
   "cell_type": "code",
   "execution_count": 30,
   "metadata": {},
   "outputs": [
    {
     "data": {
      "text/html": [
       "<div>\n",
       "<style scoped>\n",
       "    .dataframe tbody tr th:only-of-type {\n",
       "        vertical-align: middle;\n",
       "    }\n",
       "\n",
       "    .dataframe tbody tr th {\n",
       "        vertical-align: top;\n",
       "    }\n",
       "\n",
       "    .dataframe thead th {\n",
       "        text-align: right;\n",
       "    }\n",
       "</style>\n",
       "<table border=\"1\" class=\"dataframe\">\n",
       "  <thead>\n",
       "    <tr style=\"text-align: right;\">\n",
       "      <th></th>\n",
       "      <th>front</th>\n",
       "      <th>PetrolPrice</th>\n",
       "      <th>law</th>\n",
       "    </tr>\n",
       "    <tr>\n",
       "      <th>date</th>\n",
       "      <th></th>\n",
       "      <th></th>\n",
       "      <th></th>\n",
       "    </tr>\n",
       "  </thead>\n",
       "  <tbody>\n",
       "    <tr>\n",
       "      <th>1984-01-01</th>\n",
       "      <td>6.180017</td>\n",
       "      <td>-2.13897</td>\n",
       "      <td>1</td>\n",
       "    </tr>\n",
       "    <tr>\n",
       "      <th>1984-02-01</th>\n",
       "      <td>6.073045</td>\n",
       "      <td>-2.16459</td>\n",
       "      <td>1</td>\n",
       "    </tr>\n",
       "    <tr>\n",
       "      <th>1984-03-01</th>\n",
       "      <td>6.240276</td>\n",
       "      <td>-2.15645</td>\n",
       "      <td>1</td>\n",
       "    </tr>\n",
       "    <tr>\n",
       "      <th>1984-04-01</th>\n",
       "      <td>6.306275</td>\n",
       "      <td>-2.15973</td>\n",
       "      <td>1</td>\n",
       "    </tr>\n",
       "    <tr>\n",
       "      <th>1984-05-01</th>\n",
       "      <td>6.373320</td>\n",
       "      <td>-2.16443</td>\n",
       "      <td>1</td>\n",
       "    </tr>\n",
       "    <tr>\n",
       "      <th>1984-06-01</th>\n",
       "      <td>6.257668</td>\n",
       "      <td>-2.16476</td>\n",
       "      <td>1</td>\n",
       "    </tr>\n",
       "    <tr>\n",
       "      <th>1984-07-01</th>\n",
       "      <td>6.398595</td>\n",
       "      <td>-2.16338</td>\n",
       "      <td>1</td>\n",
       "    </tr>\n",
       "    <tr>\n",
       "      <th>1984-08-01</th>\n",
       "      <td>6.467699</td>\n",
       "      <td>-2.16459</td>\n",
       "      <td>1</td>\n",
       "    </tr>\n",
       "    <tr>\n",
       "      <th>1984-09-01</th>\n",
       "      <td>6.466145</td>\n",
       "      <td>-2.17074</td>\n",
       "      <td>1</td>\n",
       "    </tr>\n",
       "    <tr>\n",
       "      <th>1984-10-01</th>\n",
       "      <td>6.463029</td>\n",
       "      <td>-2.15016</td>\n",
       "      <td>1</td>\n",
       "    </tr>\n",
       "    <tr>\n",
       "      <th>1984-11-01</th>\n",
       "      <td>6.566672</td>\n",
       "      <td>-2.15394</td>\n",
       "      <td>1</td>\n",
       "    </tr>\n",
       "    <tr>\n",
       "      <th>1984-12-01</th>\n",
       "      <td>6.580639</td>\n",
       "      <td>-2.15359</td>\n",
       "      <td>1</td>\n",
       "    </tr>\n",
       "  </tbody>\n",
       "</table>\n",
       "</div>"
      ],
      "text/plain": [
       "               front  PetrolPrice  law\n",
       "date                                  \n",
       "1984-01-01  6.180017     -2.13897    1\n",
       "1984-02-01  6.073045     -2.16459    1\n",
       "1984-03-01  6.240276     -2.15645    1\n",
       "1984-04-01  6.306275     -2.15973    1\n",
       "1984-05-01  6.373320     -2.16443    1\n",
       "1984-06-01  6.257668     -2.16476    1\n",
       "1984-07-01  6.398595     -2.16338    1\n",
       "1984-08-01  6.467699     -2.16459    1\n",
       "1984-09-01  6.466145     -2.17074    1\n",
       "1984-10-01  6.463029     -2.15016    1\n",
       "1984-11-01  6.566672     -2.15394    1\n",
       "1984-12-01  6.580639     -2.15359    1"
      ]
     },
     "execution_count": 30,
     "metadata": {},
     "output_type": "execute_result"
    }
   ],
   "source": [
    "test"
   ]
  },
  {
   "cell_type": "code",
   "execution_count": 41,
   "metadata": {},
   "outputs": [
    {
     "data": {
      "text/html": [
       "<div>\n",
       "<style scoped>\n",
       "    .dataframe tbody tr th:only-of-type {\n",
       "        vertical-align: middle;\n",
       "    }\n",
       "\n",
       "    .dataframe tbody tr th {\n",
       "        vertical-align: top;\n",
       "    }\n",
       "\n",
       "    .dataframe thead th {\n",
       "        text-align: right;\n",
       "    }\n",
       "</style>\n",
       "<table border=\"1\" class=\"dataframe\">\n",
       "  <thead>\n",
       "    <tr style=\"text-align: right;\">\n",
       "      <th></th>\n",
       "      <th>front</th>\n",
       "    </tr>\n",
       "    <tr>\n",
       "      <th>date</th>\n",
       "      <th></th>\n",
       "    </tr>\n",
       "  </thead>\n",
       "  <tbody>\n",
       "    <tr>\n",
       "      <th>1984-01-01</th>\n",
       "      <td>6.142194</td>\n",
       "    </tr>\n",
       "    <tr>\n",
       "      <th>1984-02-01</th>\n",
       "      <td>6.093001</td>\n",
       "    </tr>\n",
       "    <tr>\n",
       "      <th>1984-03-01</th>\n",
       "      <td>6.172710</td>\n",
       "    </tr>\n",
       "    <tr>\n",
       "      <th>1984-04-01</th>\n",
       "      <td>6.224076</td>\n",
       "    </tr>\n",
       "    <tr>\n",
       "      <th>1984-05-01</th>\n",
       "      <td>6.299007</td>\n",
       "    </tr>\n",
       "    <tr>\n",
       "      <th>1984-06-01</th>\n",
       "      <td>6.256105</td>\n",
       "    </tr>\n",
       "    <tr>\n",
       "      <th>1984-07-01</th>\n",
       "      <td>6.379538</td>\n",
       "    </tr>\n",
       "    <tr>\n",
       "      <th>1984-08-01</th>\n",
       "      <td>6.411754</td>\n",
       "    </tr>\n",
       "    <tr>\n",
       "      <th>1984-09-01</th>\n",
       "      <td>6.357859</td>\n",
       "    </tr>\n",
       "    <tr>\n",
       "      <th>1984-10-01</th>\n",
       "      <td>6.391387</td>\n",
       "    </tr>\n",
       "    <tr>\n",
       "      <th>1984-11-01</th>\n",
       "      <td>6.318644</td>\n",
       "    </tr>\n",
       "    <tr>\n",
       "      <th>1984-12-01</th>\n",
       "      <td>6.419022</td>\n",
       "    </tr>\n",
       "  </tbody>\n",
       "</table>\n",
       "</div>"
      ],
      "text/plain": [
       "               front\n",
       "date                \n",
       "1984-01-01  6.142194\n",
       "1984-02-01  6.093001\n",
       "1984-03-01  6.172710\n",
       "1984-04-01  6.224076\n",
       "1984-05-01  6.299007\n",
       "1984-06-01  6.256105\n",
       "1984-07-01  6.379538\n",
       "1984-08-01  6.411754\n",
       "1984-09-01  6.357859\n",
       "1984-10-01  6.391387\n",
       "1984-11-01  6.318644\n",
       "1984-12-01  6.419022"
      ]
     },
     "execution_count": 41,
     "metadata": {},
     "output_type": "execute_result"
    }
   ],
   "source": [
    "y_test_pred_df = pd.DataFrame({'front': y_test_pred}, index=test.index)\n",
    "y_test_pred_df"
   ]
  },
  {
   "cell_type": "code",
   "execution_count": 45,
   "metadata": {},
   "outputs": [
    {
     "data": {
      "text/plain": [
       "<matplotlib.legend.Legend at 0x2411cc6e948>"
      ]
     },
     "execution_count": 45,
     "metadata": {},
     "output_type": "execute_result"
    },
    {
     "data": {
      "image/png": "[encoded data removed]",
      "text/plain": [
       "<Figure size 432x288 with 1 Axes>"
      ]
     },
     "metadata": {
      "needs_background": "light"
     },
     "output_type": "display_data"
    }
   ],
   "source": [
    "plt.plot(train['front'], label=\"train\")\n",
    "plt.plot(test['front'], \"b\")\n",
    "plt.plot(y_test_pred_df['front'], \"r\", label=\"pred\")\n",
    "plt.legend()"
   ]
  }
 ],
 "metadata": {
  "kernelspec": {
   "display_name": "Python 3",
   "language": "python",
   "name": "python3"
  },
  "language_info": {
   "codemirror_mode": {
    "name": "ipython",
    "version": 3
   },
   "file_extension": ".py",
   "mimetype": "text/x-python",
   "name": "python",
   "nbconvert_exporter": "python",
   "pygments_lexer": "ipython3",
   "version": "3.7.4"
  }
 },
 "nbformat": 4,
 "nbformat_minor": 4
}
