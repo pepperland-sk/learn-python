{
 "cells": [
  {
   "cell_type": "markdown",
   "source": [
    "# 第5部 状態空間モデルとカルマンフィルタ"
   ],
   "metadata": {}
  },
  {
   "cell_type": "markdown",
   "source": [
    "## パッケージインポート"
   ],
   "metadata": {}
  },
  {
   "cell_type": "code",
   "execution_count": 1,
   "source": [
    "import datetime\r\n",
    "import numpy as np\r\n",
    "import pandas as pd\r\n",
    "import pmdarima as pm\r\n",
    "import seaborn as sns\r\n",
    "import matplotlib.pyplot as plt\r\n",
    "import itertools\r\n",
    "import statsmodels.graphics.api as smg\r\n",
    "import statsmodels.tsa.api as tsa\r\n",
    "import statsmodels.api as sm\r\n",
    "from statsmodels.graphics.tsaplots import plot_acf\r\n",
    "\r\n",
    "# from pydataset import data\r\n",
    "from rdatasets import data\r\n",
    "\r\n",
    "%matplotlib inline\r\n",
    "# sns.set(font=\"DejaVu Sans\") #seabornを日本語対応"
   ],
   "outputs": [],
   "metadata": {}
  },
  {
   "cell_type": "markdown",
   "source": [
    "## 第5部-7章 実装：Pythonによる状態空間モデル"
   ],
   "metadata": {}
  },
  {
   "cell_type": "code",
   "execution_count": 17,
   "source": [
    "# データの準備\r\n",
    "df = data('Nile')\r\n",
    "df['time'] = pd.to_datetime(df['time'], format='%Y')\r\n",
    "df = df.set_index('time')\r\n",
    "df"
   ],
   "outputs": [
    {
     "output_type": "execute_result",
     "data": {
      "text/html": [
       "<div>\n",
       "<style scoped>\n",
       "    .dataframe tbody tr th:only-of-type {\n",
       "        vertical-align: middle;\n",
       "    }\n",
       "\n",
       "    .dataframe tbody tr th {\n",
       "        vertical-align: top;\n",
       "    }\n",
       "\n",
       "    .dataframe thead th {\n",
       "        text-align: right;\n",
       "    }\n",
       "</style>\n",
       "<table border=\"1\" class=\"dataframe\">\n",
       "  <thead>\n",
       "    <tr style=\"text-align: right;\">\n",
       "      <th></th>\n",
       "      <th>value</th>\n",
       "    </tr>\n",
       "    <tr>\n",
       "      <th>time</th>\n",
       "      <th></th>\n",
       "    </tr>\n",
       "  </thead>\n",
       "  <tbody>\n",
       "    <tr>\n",
       "      <th>1871-01-01</th>\n",
       "      <td>1120</td>\n",
       "    </tr>\n",
       "    <tr>\n",
       "      <th>1872-01-01</th>\n",
       "      <td>1160</td>\n",
       "    </tr>\n",
       "    <tr>\n",
       "      <th>1873-01-01</th>\n",
       "      <td>963</td>\n",
       "    </tr>\n",
       "    <tr>\n",
       "      <th>1874-01-01</th>\n",
       "      <td>1210</td>\n",
       "    </tr>\n",
       "    <tr>\n",
       "      <th>1875-01-01</th>\n",
       "      <td>1160</td>\n",
       "    </tr>\n",
       "    <tr>\n",
       "      <th>...</th>\n",
       "      <td>...</td>\n",
       "    </tr>\n",
       "    <tr>\n",
       "      <th>1966-01-01</th>\n",
       "      <td>746</td>\n",
       "    </tr>\n",
       "    <tr>\n",
       "      <th>1967-01-01</th>\n",
       "      <td>919</td>\n",
       "    </tr>\n",
       "    <tr>\n",
       "      <th>1968-01-01</th>\n",
       "      <td>718</td>\n",
       "    </tr>\n",
       "    <tr>\n",
       "      <th>1969-01-01</th>\n",
       "      <td>714</td>\n",
       "    </tr>\n",
       "    <tr>\n",
       "      <th>1970-01-01</th>\n",
       "      <td>740</td>\n",
       "    </tr>\n",
       "  </tbody>\n",
       "</table>\n",
       "<p>100 rows × 1 columns</p>\n",
       "</div>"
      ],
      "text/plain": [
       "            value\n",
       "time             \n",
       "1871-01-01   1120\n",
       "1872-01-01   1160\n",
       "1873-01-01    963\n",
       "1874-01-01   1210\n",
       "1875-01-01   1160\n",
       "...           ...\n",
       "1966-01-01    746\n",
       "1967-01-01    919\n",
       "1968-01-01    718\n",
       "1969-01-01    714\n",
       "1970-01-01    740\n",
       "\n",
       "[100 rows x 1 columns]"
      ]
     },
     "metadata": {},
     "execution_count": 17
    }
   ],
   "metadata": {}
  },
  {
   "cell_type": "code",
   "execution_count": 18,
   "source": [
    "class KfLocalLevel:\r\n",
    "    def __init__(self, y, mu_pre, P_pre, sigma_w, sigma_v):\r\n",
    "        self.y = y\r\n",
    "        self.mu_pre = mu_pre\r\n",
    "        self.P_pre = P_pre\r\n",
    "        self.sigma_w = sigma_w\r\n",
    "        self.sigma_v = sigma_v\r\n",
    "\r\n",
    "    def predict(self):\r\n",
    "        self.mu_forecast = self.mu_pre\r\n",
    "        self.P_forecast = self.P_pre + self.sigma_w\r\n",
    "        self.y_forecast = self.mu_forecast\r\n",
    "        self.F = self.P_forecast + self.sigma_v\r\n",
    "\r\n",
    "    def filtering(self):\r\n",
    "        self.K = self.P_forecast / (self.P_forecast + self.sigma_v)\r\n",
    "        self.y_resid = self.y - self.y_forecast\r\n",
    "        self.mu_filter = self.mu_forecast + self.K * self.y_resid\r\n",
    "        self.P_filter = (1 - self.K) * self.P_forecast\r\n",
    "    \r\n",
    "    def get_result(self):\r\n",
    "        result = pd.DataFrame(\r\n",
    "            {'mu_filter': self.mu_filter, \r\n",
    "            'P_filter': self.P_filter, \r\n",
    "            'y_resid': self.y_resid, \r\n",
    "            'F': self.F, \r\n",
    "            'P': self.P}\r\n",
    "        )\r\n",
    "        return result\r\n"
   ],
   "outputs": [],
   "metadata": {}
  },
  {
   "cell_type": "code",
   "execution_count": 19,
   "source": [
    "# サンプルサイズ\r\n",
    "N = len(df)"
   ],
   "outputs": [],
   "metadata": {}
  }
 ],
 "metadata": {
  "orig_nbformat": 4,
  "language_info": {
   "name": "python",
   "version": "3.7.4",
   "mimetype": "text/x-python",
   "codemirror_mode": {
    "name": "ipython",
    "version": 3
   },
   "pygments_lexer": "ipython3",
   "nbconvert_exporter": "python",
   "file_extension": ".py"
  },
  "kernelspec": {
   "name": "python3",
   "display_name": "Python 3.7.4 64-bit"
  },
  "interpreter": {
   "hash": "604dc64682a14d1dabbc2f28eaa83c1872fcd80e8ddef27415c4ee155e867ec6"
  }
 },
 "nbformat": 4,
 "nbformat_minor": 2
}