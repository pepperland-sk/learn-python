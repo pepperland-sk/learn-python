{
 "cells": [
  {
   "cell_type": "code",
   "execution_count": 1,
   "metadata": {},
   "outputs": [],
   "source": [
    "import numpy as np\n",
    "from pandas import Series, DataFrame\n",
    "import pandas as pd\n",
    "from numpy.random import randn"
   ]
  },
  {
   "cell_type": "code",
   "execution_count": 2,
   "metadata": {},
   "outputs": [],
   "source": [
    "#簡単なSeriesを作ってみましょう。\n",
    "ser1 = Series([1,2,3,4],index=['A','B','C','D'])"
   ]
  },
  {
   "cell_type": "code",
   "execution_count": 3,
   "metadata": {},
   "outputs": [
    {
     "data": {
      "text/plain": [
       "A    1\n",
       "B    2\n",
       "C    3\n",
       "D    4\n",
       "dtype: int64"
      ]
     },
     "execution_count": 3,
     "metadata": {},
     "output_type": "execute_result"
    }
   ],
   "source": [
    "ser1"
   ]
  },
  {
   "cell_type": "code",
   "execution_count": 4,
   "metadata": {},
   "outputs": [],
   "source": [
    "#  reindexを使って、indexを変えられます。\n",
    "ser2 = ser1.reindex(['A','B','C','D','E','F'])"
   ]
  },
  {
   "cell_type": "code",
   "execution_count": 5,
   "metadata": {},
   "outputs": [
    {
     "data": {
      "text/plain": [
       "A    1.0\n",
       "B    2.0\n",
       "C    3.0\n",
       "D    4.0\n",
       "E    NaN\n",
       "F    NaN\n",
       "dtype: float64"
      ]
     },
     "execution_count": 5,
     "metadata": {},
     "output_type": "execute_result"
    }
   ],
   "source": [
    "#自動的に、nullが入ります。\n",
    "ser2"
   ]
  },
  {
   "cell_type": "code",
   "execution_count": 6,
   "metadata": {},
   "outputs": [
    {
     "data": {
      "text/plain": [
       "A    1.0\n",
       "B    2.0\n",
       "C    3.0\n",
       "D    4.0\n",
       "E    NaN\n",
       "F    NaN\n",
       "G    0.0\n",
       "dtype: float64"
      ]
     },
     "execution_count": 6,
     "metadata": {},
     "output_type": "execute_result"
    }
   ],
   "source": [
    "# 新しいindexの値を埋めることもできます。\n",
    "ser2.reindex(['A','B','C','D','E','F','G'],fill_value=0)"
   ]
  },
  {
   "cell_type": "code",
   "execution_count": 7,
   "metadata": {},
   "outputs": [
    {
     "data": {
      "text/plain": [
       "0        USA\n",
       "5     Mexico\n",
       "10    Canada\n",
       "dtype: object"
      ]
     },
     "execution_count": 7,
     "metadata": {},
     "output_type": "execute_result"
    }
   ],
   "source": [
    "ser3 = Series(['USA','Mexico','Canada'],index=[0,5,10])\n",
    "\n",
    "ser3"
   ]
  },
  {
   "cell_type": "code",
   "execution_count": 8,
   "metadata": {},
   "outputs": [
    {
     "data": {
      "text/plain": [
       "0        USA\n",
       "1        USA\n",
       "2        USA\n",
       "3        USA\n",
       "4        USA\n",
       "5     Mexico\n",
       "6     Mexico\n",
       "7     Mexico\n",
       "8     Mexico\n",
       "9     Mexico\n",
       "10    Canada\n",
       "11    Canada\n",
       "12    Canada\n",
       "13    Canada\n",
       "14    Canada\n",
       "dtype: object"
      ]
     },
     "execution_count": 8,
     "metadata": {},
     "output_type": "execute_result"
    }
   ],
   "source": [
    "# ffillは、forward fillの略です。\n",
    "ser3.reindex(range(15),method='ffill')"
   ]
  },
  {
   "cell_type": "code",
   "execution_count": 14,
   "metadata": {},
   "outputs": [
    {
     "data": {
      "text/html": [
       "<div>\n",
       "<style scoped>\n",
       "    .dataframe tbody tr th:only-of-type {\n",
       "        vertical-align: middle;\n",
       "    }\n",
       "\n",
       "    .dataframe tbody tr th {\n",
       "        vertical-align: top;\n",
       "    }\n",
       "\n",
       "    .dataframe thead th {\n",
       "        text-align: right;\n",
       "    }\n",
       "</style>\n",
       "<table border=\"1\" class=\"dataframe\">\n",
       "  <thead>\n",
       "    <tr style=\"text-align: right;\">\n",
       "      <th></th>\n",
       "      <th>col1</th>\n",
       "      <th>col2</th>\n",
       "      <th>col3</th>\n",
       "      <th>col4</th>\n",
       "      <th>col5</th>\n",
       "    </tr>\n",
       "  </thead>\n",
       "  <tbody>\n",
       "    <tr>\n",
       "      <th>A</th>\n",
       "      <td>-0.357426</td>\n",
       "      <td>1.104322</td>\n",
       "      <td>0.560911</td>\n",
       "      <td>-0.214101</td>\n",
       "      <td>0.509331</td>\n",
       "    </tr>\n",
       "    <tr>\n",
       "      <th>B</th>\n",
       "      <td>1.084135</td>\n",
       "      <td>0.705614</td>\n",
       "      <td>-1.937080</td>\n",
       "      <td>0.642091</td>\n",
       "      <td>0.688505</td>\n",
       "    </tr>\n",
       "    <tr>\n",
       "      <th>D</th>\n",
       "      <td>1.377852</td>\n",
       "      <td>0.119005</td>\n",
       "      <td>-0.854648</td>\n",
       "      <td>-1.691493</td>\n",
       "      <td>1.269064</td>\n",
       "    </tr>\n",
       "    <tr>\n",
       "      <th>E</th>\n",
       "      <td>-2.268188</td>\n",
       "      <td>0.678613</td>\n",
       "      <td>-0.426766</td>\n",
       "      <td>0.209547</td>\n",
       "      <td>1.247763</td>\n",
       "    </tr>\n",
       "    <tr>\n",
       "      <th>F</th>\n",
       "      <td>0.973121</td>\n",
       "      <td>-1.054411</td>\n",
       "      <td>2.064090</td>\n",
       "      <td>-0.711025</td>\n",
       "      <td>-0.162770</td>\n",
       "    </tr>\n",
       "  </tbody>\n",
       "</table>\n",
       "</div>"
      ],
      "text/plain": [
       "       col1      col2      col3      col4      col5\n",
       "A -0.357426  1.104322  0.560911 -0.214101  0.509331\n",
       "B  1.084135  0.705614 -1.937080  0.642091  0.688505\n",
       "D  1.377852  0.119005 -0.854648 -1.691493  1.269064\n",
       "E -2.268188  0.678613 -0.426766  0.209547  1.247763\n",
       "F  0.973121 -1.054411  2.064090 -0.711025 -0.162770"
      ]
     },
     "execution_count": 14,
     "metadata": {},
     "output_type": "execute_result"
    }
   ],
   "source": [
    "# 行と列の両方について、Reindexを考えます。\n",
    "# reshapeを使ってDataFrameを作ってみます。\n",
    "dframe = DataFrame(randn(25).reshape((5,5)),index=['A','B','D','E','F'],columns=['col1','col2','col3','col4','col5'])\n",
    "dframe"
   ]
  },
  {
   "cell_type": "code",
   "execution_count": 15,
   "metadata": {},
   "outputs": [
    {
     "data": {
      "text/html": [
       "<div>\n",
       "<style scoped>\n",
       "    .dataframe tbody tr th:only-of-type {\n",
       "        vertical-align: middle;\n",
       "    }\n",
       "\n",
       "    .dataframe tbody tr th {\n",
       "        vertical-align: top;\n",
       "    }\n",
       "\n",
       "    .dataframe thead th {\n",
       "        text-align: right;\n",
       "    }\n",
       "</style>\n",
       "<table border=\"1\" class=\"dataframe\">\n",
       "  <thead>\n",
       "    <tr style=\"text-align: right;\">\n",
       "      <th></th>\n",
       "      <th>col1</th>\n",
       "      <th>col2</th>\n",
       "      <th>col3</th>\n",
       "      <th>col4</th>\n",
       "      <th>col5</th>\n",
       "    </tr>\n",
       "  </thead>\n",
       "  <tbody>\n",
       "    <tr>\n",
       "      <th>A</th>\n",
       "      <td>-0.357426</td>\n",
       "      <td>1.104322</td>\n",
       "      <td>0.560911</td>\n",
       "      <td>-0.214101</td>\n",
       "      <td>0.509331</td>\n",
       "    </tr>\n",
       "    <tr>\n",
       "      <th>B</th>\n",
       "      <td>1.084135</td>\n",
       "      <td>0.705614</td>\n",
       "      <td>-1.937080</td>\n",
       "      <td>0.642091</td>\n",
       "      <td>0.688505</td>\n",
       "    </tr>\n",
       "    <tr>\n",
       "      <th>C</th>\n",
       "      <td>NaN</td>\n",
       "      <td>NaN</td>\n",
       "      <td>NaN</td>\n",
       "      <td>NaN</td>\n",
       "      <td>NaN</td>\n",
       "    </tr>\n",
       "    <tr>\n",
       "      <th>D</th>\n",
       "      <td>1.377852</td>\n",
       "      <td>0.119005</td>\n",
       "      <td>-0.854648</td>\n",
       "      <td>-1.691493</td>\n",
       "      <td>1.269064</td>\n",
       "    </tr>\n",
       "    <tr>\n",
       "      <th>E</th>\n",
       "      <td>-2.268188</td>\n",
       "      <td>0.678613</td>\n",
       "      <td>-0.426766</td>\n",
       "      <td>0.209547</td>\n",
       "      <td>1.247763</td>\n",
       "    </tr>\n",
       "    <tr>\n",
       "      <th>F</th>\n",
       "      <td>0.973121</td>\n",
       "      <td>-1.054411</td>\n",
       "      <td>2.064090</td>\n",
       "      <td>-0.711025</td>\n",
       "      <td>-0.162770</td>\n",
       "    </tr>\n",
       "  </tbody>\n",
       "</table>\n",
       "</div>"
      ],
      "text/plain": [
       "       col1      col2      col3      col4      col5\n",
       "A -0.357426  1.104322  0.560911 -0.214101  0.509331\n",
       "B  1.084135  0.705614 -1.937080  0.642091  0.688505\n",
       "C       NaN       NaN       NaN       NaN       NaN\n",
       "D  1.377852  0.119005 -0.854648 -1.691493  1.269064\n",
       "E -2.268188  0.678613 -0.426766  0.209547  1.247763\n",
       "F  0.973121 -1.054411  2.064090 -0.711025 -0.162770"
      ]
     },
     "execution_count": 15,
     "metadata": {},
     "output_type": "execute_result"
    }
   ],
   "source": [
    "# Cを忘れました。\n",
    "new_index = ['A','B','C','D','E','F']\n",
    "dframe2 = dframe.reindex(new_index)\n",
    "dframe2"
   ]
  },
  {
   "cell_type": "code",
   "execution_count": 16,
   "metadata": {},
   "outputs": [
    {
     "data": {
      "text/html": [
       "<div>\n",
       "<style scoped>\n",
       "    .dataframe tbody tr th:only-of-type {\n",
       "        vertical-align: middle;\n",
       "    }\n",
       "\n",
       "    .dataframe tbody tr th {\n",
       "        vertical-align: top;\n",
       "    }\n",
       "\n",
       "    .dataframe thead th {\n",
       "        text-align: right;\n",
       "    }\n",
       "</style>\n",
       "<table border=\"1\" class=\"dataframe\">\n",
       "  <thead>\n",
       "    <tr style=\"text-align: right;\">\n",
       "      <th></th>\n",
       "      <th>col1</th>\n",
       "      <th>col2</th>\n",
       "      <th>col3</th>\n",
       "      <th>col4</th>\n",
       "      <th>col5</th>\n",
       "      <th>col6</th>\n",
       "    </tr>\n",
       "  </thead>\n",
       "  <tbody>\n",
       "    <tr>\n",
       "      <th>A</th>\n",
       "      <td>-0.357426</td>\n",
       "      <td>1.104322</td>\n",
       "      <td>0.560911</td>\n",
       "      <td>-0.214101</td>\n",
       "      <td>0.509331</td>\n",
       "      <td>NaN</td>\n",
       "    </tr>\n",
       "    <tr>\n",
       "      <th>B</th>\n",
       "      <td>1.084135</td>\n",
       "      <td>0.705614</td>\n",
       "      <td>-1.937080</td>\n",
       "      <td>0.642091</td>\n",
       "      <td>0.688505</td>\n",
       "      <td>NaN</td>\n",
       "    </tr>\n",
       "    <tr>\n",
       "      <th>C</th>\n",
       "      <td>NaN</td>\n",
       "      <td>NaN</td>\n",
       "      <td>NaN</td>\n",
       "      <td>NaN</td>\n",
       "      <td>NaN</td>\n",
       "      <td>NaN</td>\n",
       "    </tr>\n",
       "    <tr>\n",
       "      <th>D</th>\n",
       "      <td>1.377852</td>\n",
       "      <td>0.119005</td>\n",
       "      <td>-0.854648</td>\n",
       "      <td>-1.691493</td>\n",
       "      <td>1.269064</td>\n",
       "      <td>NaN</td>\n",
       "    </tr>\n",
       "    <tr>\n",
       "      <th>E</th>\n",
       "      <td>-2.268188</td>\n",
       "      <td>0.678613</td>\n",
       "      <td>-0.426766</td>\n",
       "      <td>0.209547</td>\n",
       "      <td>1.247763</td>\n",
       "      <td>NaN</td>\n",
       "    </tr>\n",
       "    <tr>\n",
       "      <th>F</th>\n",
       "      <td>0.973121</td>\n",
       "      <td>-1.054411</td>\n",
       "      <td>2.064090</td>\n",
       "      <td>-0.711025</td>\n",
       "      <td>-0.162770</td>\n",
       "      <td>NaN</td>\n",
       "    </tr>\n",
       "  </tbody>\n",
       "</table>\n",
       "</div>"
      ],
      "text/plain": [
       "       col1      col2      col3      col4      col5  col6\n",
       "A -0.357426  1.104322  0.560911 -0.214101  0.509331   NaN\n",
       "B  1.084135  0.705614 -1.937080  0.642091  0.688505   NaN\n",
       "C       NaN       NaN       NaN       NaN       NaN   NaN\n",
       "D  1.377852  0.119005 -0.854648 -1.691493  1.269064   NaN\n",
       "E -2.268188  0.678613 -0.426766  0.209547  1.247763   NaN\n",
       "F  0.973121 -1.054411  2.064090 -0.711025 -0.162770   NaN"
      ]
     },
     "execution_count": 16,
     "metadata": {},
     "output_type": "execute_result"
    }
   ],
   "source": [
    "#列にも同じような操作ができます。\n",
    "new_columns = ['col1','col2','col3','col4','col5','col6']\n",
    "\n",
    "dframe2.reindex(columns=new_columns)"
   ]
  },
  {
   "cell_type": "code",
   "execution_count": 12,
   "metadata": {},
   "outputs": [
    {
     "data": {
      "text/html": [
       "<div>\n",
       "<style scoped>\n",
       "    .dataframe tbody tr th:only-of-type {\n",
       "        vertical-align: middle;\n",
       "    }\n",
       "\n",
       "    .dataframe tbody tr th {\n",
       "        vertical-align: top;\n",
       "    }\n",
       "\n",
       "    .dataframe thead th {\n",
       "        text-align: right;\n",
       "    }\n",
       "</style>\n",
       "<table border=\"1\" class=\"dataframe\">\n",
       "  <thead>\n",
       "    <tr style=\"text-align: right;\">\n",
       "      <th></th>\n",
       "      <th>col1</th>\n",
       "      <th>col2</th>\n",
       "      <th>col3</th>\n",
       "      <th>col4</th>\n",
       "      <th>col5</th>\n",
       "    </tr>\n",
       "  </thead>\n",
       "  <tbody>\n",
       "    <tr>\n",
       "      <th>A</th>\n",
       "      <td>0.471058</td>\n",
       "      <td>1.431081</td>\n",
       "      <td>0.435917</td>\n",
       "      <td>-0.461931</td>\n",
       "      <td>-1.766243</td>\n",
       "    </tr>\n",
       "    <tr>\n",
       "      <th>B</th>\n",
       "      <td>-0.574238</td>\n",
       "      <td>-1.923739</td>\n",
       "      <td>-2.302645</td>\n",
       "      <td>-0.337801</td>\n",
       "      <td>0.492215</td>\n",
       "    </tr>\n",
       "    <tr>\n",
       "      <th>D</th>\n",
       "      <td>1.310718</td>\n",
       "      <td>1.166303</td>\n",
       "      <td>0.598446</td>\n",
       "      <td>1.445126</td>\n",
       "      <td>0.214664</td>\n",
       "    </tr>\n",
       "    <tr>\n",
       "      <th>E</th>\n",
       "      <td>-1.575804</td>\n",
       "      <td>-0.774441</td>\n",
       "      <td>-0.132255</td>\n",
       "      <td>0.908830</td>\n",
       "      <td>-1.790456</td>\n",
       "    </tr>\n",
       "    <tr>\n",
       "      <th>F</th>\n",
       "      <td>0.070830</td>\n",
       "      <td>-0.101971</td>\n",
       "      <td>-0.426469</td>\n",
       "      <td>0.113730</td>\n",
       "      <td>-0.774654</td>\n",
       "    </tr>\n",
       "  </tbody>\n",
       "</table>\n",
       "</div>"
      ],
      "text/plain": [
       "       col1      col2      col3      col4      col5\n",
       "A  0.471058  1.431081  0.435917 -0.461931 -1.766243\n",
       "B -0.574238 -1.923739 -2.302645 -0.337801  0.492215\n",
       "D  1.310718  1.166303  0.598446  1.445126  0.214664\n",
       "E -1.575804 -0.774441 -0.132255  0.908830 -1.790456\n",
       "F  0.070830 -0.101971 -0.426469  0.113730 -0.774654"
      ]
     },
     "execution_count": 12,
     "metadata": {},
     "output_type": "execute_result"
    }
   ],
   "source": [
    "# ixを使うと、素早くReindexが可能です。\n",
    "dframe"
   ]
  },
  {
   "cell_type": "code",
   "execution_count": 13,
   "metadata": {},
   "outputs": [
    {
     "name": "stderr",
     "output_type": "stream",
     "text": [
      "/Users/shoki/anaconda3/lib/python3.6/site-packages/ipykernel_launcher.py:1: DeprecationWarning: \n",
      ".ix is deprecated. Please use\n",
      ".loc for label based indexing or\n",
      ".iloc for positional indexing\n",
      "\n",
      "See the documentation here:\n",
      "http://pandas.pydata.org/pandas-docs/stable/indexing.html#ix-indexer-is-deprecated\n",
      "  \"\"\"Entry point for launching an IPython kernel.\n"
     ]
    },
    {
     "data": {
      "text/html": [
       "<div>\n",
       "<style scoped>\n",
       "    .dataframe tbody tr th:only-of-type {\n",
       "        vertical-align: middle;\n",
       "    }\n",
       "\n",
       "    .dataframe tbody tr th {\n",
       "        vertical-align: top;\n",
       "    }\n",
       "\n",
       "    .dataframe thead th {\n",
       "        text-align: right;\n",
       "    }\n",
       "</style>\n",
       "<table border=\"1\" class=\"dataframe\">\n",
       "  <thead>\n",
       "    <tr style=\"text-align: right;\">\n",
       "      <th></th>\n",
       "      <th>col1</th>\n",
       "      <th>col2</th>\n",
       "      <th>col3</th>\n",
       "      <th>col4</th>\n",
       "      <th>col5</th>\n",
       "      <th>col6</th>\n",
       "    </tr>\n",
       "  </thead>\n",
       "  <tbody>\n",
       "    <tr>\n",
       "      <th>A</th>\n",
       "      <td>0.471058</td>\n",
       "      <td>1.431081</td>\n",
       "      <td>0.435917</td>\n",
       "      <td>-0.461931</td>\n",
       "      <td>-1.766243</td>\n",
       "      <td>NaN</td>\n",
       "    </tr>\n",
       "    <tr>\n",
       "      <th>B</th>\n",
       "      <td>-0.574238</td>\n",
       "      <td>-1.923739</td>\n",
       "      <td>-2.302645</td>\n",
       "      <td>-0.337801</td>\n",
       "      <td>0.492215</td>\n",
       "      <td>NaN</td>\n",
       "    </tr>\n",
       "    <tr>\n",
       "      <th>C</th>\n",
       "      <td>NaN</td>\n",
       "      <td>NaN</td>\n",
       "      <td>NaN</td>\n",
       "      <td>NaN</td>\n",
       "      <td>NaN</td>\n",
       "      <td>NaN</td>\n",
       "    </tr>\n",
       "    <tr>\n",
       "      <th>D</th>\n",
       "      <td>1.310718</td>\n",
       "      <td>1.166303</td>\n",
       "      <td>0.598446</td>\n",
       "      <td>1.445126</td>\n",
       "      <td>0.214664</td>\n",
       "      <td>NaN</td>\n",
       "    </tr>\n",
       "    <tr>\n",
       "      <th>E</th>\n",
       "      <td>-1.575804</td>\n",
       "      <td>-0.774441</td>\n",
       "      <td>-0.132255</td>\n",
       "      <td>0.908830</td>\n",
       "      <td>-1.790456</td>\n",
       "      <td>NaN</td>\n",
       "    </tr>\n",
       "    <tr>\n",
       "      <th>F</th>\n",
       "      <td>0.070830</td>\n",
       "      <td>-0.101971</td>\n",
       "      <td>-0.426469</td>\n",
       "      <td>0.113730</td>\n",
       "      <td>-0.774654</td>\n",
       "      <td>NaN</td>\n",
       "    </tr>\n",
       "  </tbody>\n",
       "</table>\n",
       "</div>"
      ],
      "text/plain": [
       "       col1      col2      col3      col4      col5  col6\n",
       "A  0.471058  1.431081  0.435917 -0.461931 -1.766243   NaN\n",
       "B -0.574238 -1.923739 -2.302645 -0.337801  0.492215   NaN\n",
       "C       NaN       NaN       NaN       NaN       NaN   NaN\n",
       "D  1.310718  1.166303  0.598446  1.445126  0.214664   NaN\n",
       "E -1.575804 -0.774441 -0.132255  0.908830 -1.790456   NaN\n",
       "F  0.070830 -0.101971 -0.426469  0.113730 -0.774654   NaN"
      ]
     },
     "execution_count": 13,
     "metadata": {},
     "output_type": "execute_result"
    }
   ],
   "source": [
    "dframe.ix[new_index, new_columns]"
   ]
  },
  {
   "cell_type": "code",
   "execution_count": null,
   "metadata": {},
   "outputs": [],
   "source": []
  },
  {
   "cell_type": "code",
   "execution_count": null,
   "metadata": {},
   "outputs": [],
   "source": []
  }
 ],
 "metadata": {
  "kernelspec": {
   "display_name": "Python 3",
   "language": "python",
   "name": "python3"
  },
  "language_info": {
   "codemirror_mode": {
    "name": "ipython",
    "version": 3
   },
   "file_extension": ".py",
   "mimetype": "text/x-python",
   "name": "python",
   "nbconvert_exporter": "python",
   "pygments_lexer": "ipython3",
   "version": "3.6.4"
  }
 },
 "nbformat": 4,
 "nbformat_minor": 1
}
